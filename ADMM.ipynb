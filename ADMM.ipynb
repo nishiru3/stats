{
 "cells": [
  {
   "cell_type": "markdown",
   "metadata": {},
   "source": [
    "# 交互方向乗数法\n",
    "## 参考文献\n",
    "- スパース推定法による統計モデリング　共立出版 川野秀一・松井秀俊・廣瀬慧　著\n",
    "\n",
    "## データ\n",
    "- https://web.stanford.edu/~hastie/StatLearnSparsity_files/DATA/crime.txt"
   ]
  },
  {
   "cell_type": "code",
   "execution_count": 75,
   "metadata": {},
   "outputs": [],
   "source": [
    "import numpy as np\n",
    "import scipy.stats\n",
    "# データの準備\n",
    "data = np.loadtxt(\"crime.txt\")\n",
    "X = data[:,2:6]\n",
    "y = data[:,0]\n",
    "X = scipy.stats.zscore(X) # 標準化（平均を０、分散を１）\n",
    "y = y - np.mean(y) # 平均化（平均を０）\n",
    "# パラメータの準備\n",
    "lamb = 20.0\n",
    "rho = 1.0\n",
    "beta = np.zeros(len(X[0])) # 回帰係数\n",
    "gamma = np.zeros(len(X[0]))\n",
    "u = np.zeros(len(X[0]))\n",
    "n = len(y) # データの個数\n",
    "p = len(X[0]) #　せつめい"
   ]
  },
  {
   "cell_type": "code",
   "execution_count": 76,
   "metadata": {},
   "outputs": [],
   "source": [
    "# ソフト閾値関数\n",
    "def soft_th(x, lamb):\n",
    "    return np.sign(x) * np.maximum(np.abs(x) - lamb, 0.0)"
   ]
  },
  {
   "cell_type": "code",
   "execution_count": 77,
   "metadata": {},
   "outputs": [
    {
     "name": "stdout",
     "output_type": "stream",
     "text": [
      "収束計算の回数： 89\n",
      "[132.14897319 -24.95569475  19.27490243   0.        ]\n"
     ]
    }
   ],
   "source": [
    "# アルゴリズム開始\n",
    "## あらかじめ定数は計算しておく\n",
    "XTX = X.T.dot(X)\n",
    "nrhoI = n*rho*np.eye(p)\n",
    "XTy = X.T.dot(y)\n",
    "array = np.linalg.inv(XTX + nrhoI)\n",
    "gamma_new = np.zeros(p)\n",
    "## 収束計算\n",
    "for i in range(100000):\n",
    "    beta_new = array.dot(XTy + n*rho*(gamma - 1.0/rho * u))\n",
    "    for j in range(p):\n",
    "        gamma_new[j] = soft_th(beta_new[j] + 1.0 / rho * u[j],lamb/rho)\n",
    "    u_new = u + rho*(beta_new - gamma_new)\n",
    "    \n",
    "    if np.linalg.norm(beta_new - beta) < 10**(-10):\n",
    "        print('収束計算の回数：',i)\n",
    "        break\n",
    "    beta = beta_new.copy()\n",
    "    gamma = gamma_new.copy()\n",
    "    u = u_new.copy()\n",
    "\n",
    "print(gamma)"
   ]
  },
  {
   "cell_type": "code",
   "execution_count": null,
   "metadata": {},
   "outputs": [],
   "source": []
  }
 ],
 "metadata": {
  "kernelspec": {
   "display_name": "Python 3",
   "language": "python",
   "name": "python3"
  },
  "language_info": {
   "codemirror_mode": {
    "name": "ipython",
    "version": 3
   },
   "file_extension": ".py",
   "mimetype": "text/x-python",
   "name": "python",
   "nbconvert_exporter": "python",
   "pygments_lexer": "ipython3",
   "version": "3.7.0"
  }
 },
 "nbformat": 4,
 "nbformat_minor": 2
}
