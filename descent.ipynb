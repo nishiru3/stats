{
 "cells": [
  {
   "cell_type": "markdown",
   "metadata": {},
   "source": [
    "# 座標降下法\n",
    "## 参考文献\n",
    "- スパース推定法による統計モデリング　共立出版 川野秀一・松井秀俊・廣瀬慧　著\n",
    "\n",
    "## データ\n",
    "- https://web.stanford.edu/~hastie/StatLearnSparsity_files/DATA/crime.txt"
   ]
  },
  {
   "cell_type": "code",
   "execution_count": 296,
   "metadata": {},
   "outputs": [],
   "source": [
    "import numpy as np\n",
    "import scipy.stats\n",
    "# データの準備\n",
    "data = np.loadtxt(\"crime.txt\")\n",
    "X = data[:,2:7]\n",
    "y = data[:,0]\n",
    "X = scipy.stats.zscore(X) # 標準化（平均を０、分散を１）\n",
    "y = y - np.mean(y) # 平均化（平均を０）\n",
    "# パラメータの準備\n",
    "lamb = 20.0\n",
    "beta = np.zeros(len(X[0])) # 回帰係数\n",
    "n = len(y) # データの個数\n",
    "p = len(X[0]) #　説明変数の個数（平均化しているので切片は０となっており、数には含めない）"
   ]
  },
  {
   "cell_type": "code",
   "execution_count": 297,
   "metadata": {
    "collapsed": true
   },
   "outputs": [],
   "source": [
    "# ソフト閾値関数\n",
    "def soft_th(x, lamb):\n",
    "    return np.sign(x) * np.maximum(np.abs(x) - lamb, 0.0)"
   ]
  },
  {
   "cell_type": "code",
   "execution_count": 298,
   "metadata": {},
   "outputs": [
    {
     "name": "stdout",
     "output_type": "stream",
     "text": [
      "繰り返し回数： 27\n",
      "[ 132.1489732   -24.95569475   19.27490243    0.            0.        ]\n"
     ]
    }
   ],
   "source": [
    "# アルゴリズム開始\n",
    "rx = np.zeros(p)\n",
    "r  = np.zeros((n,p))\n",
    "for itr in range(1000):\n",
    "    err = 0.0\n",
    "    for j in range(p):\n",
    "        sums = 0.0\n",
    "        for k in range(p):\n",
    "            if j != k:\n",
    "                sums = sums + X[:,k]*beta[k]\n",
    "        r[:,j] = y - sums\n",
    "        rx = r[:,j].dot(X[:,j])\n",
    "        b = soft_th(rx/n,lamb)        \n",
    "        err = err + (beta[j]-b)**2\n",
    "        beta[j] = b\n",
    "    if err < 10**(-15):\n",
    "        print('繰り返し回数：',itr)\n",
    "        break\n",
    "print(beta)"
   ]
  }
 ],
 "metadata": {
  "kernelspec": {
   "display_name": "Python 3",
   "language": "python",
   "name": "python3"
  },
  "language_info": {
   "codemirror_mode": {
    "name": "ipython",
    "version": 3
   },
   "file_extension": ".py",
   "mimetype": "text/x-python",
   "name": "python",
   "nbconvert_exporter": "python",
   "pygments_lexer": "ipython3",
   "version": "3.7.2"
  }
 },
 "nbformat": 4,
 "nbformat_minor": 2
}
